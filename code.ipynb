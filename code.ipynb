{
 "cells": [
  {
   "cell_type": "code",
   "execution_count": 4,
   "metadata": {},
   "outputs": [],
   "source": [
    "import pandas as pd\n",
    "import numpy as np\n",
    "import seaborn as sns\n",
    "\n",
    "import matplotlib.pyplot as plt\n",
    "import matplotlib.mlab as mlab\n",
    "import matplotlib\n",
    "plt.style.use('ggplot')\n",
    "from matplotlib.pyplot import figure\n",
    "\n",
    "%matplotlib inline\n",
    "matplotlib.rcParams['figure.figsize'] = (12,8)\n",
    "\n",
    "pd.options.mode.chained_assignment = None"
   ]
  },
  {
   "cell_type": "code",
   "execution_count": 7,
   "metadata": {},
   "outputs": [],
   "source": [
    "data = pd.read_csv(\"./movies.csv\")"
   ]
  },
  {
   "cell_type": "code",
   "execution_count": 66,
   "metadata": {},
   "outputs": [
    {
     "name": "stdout",
     "output_type": "stream",
     "text": [
      "name  -  0.00%\n",
      "rating  -  1.00%\n",
      "genre  -  0.00%\n",
      "year  -  0.77%\n",
      "released  -  0.00%\n",
      "score  -  0.04%\n",
      "votes  -  0.04%\n",
      "director  -  0.00%\n",
      "writer  -  0.04%\n",
      "star  -  0.01%\n",
      "country  -  0.04%\n",
      "budget  -  0.00%\n",
      "gross  -  0.00%\n",
      "company  -  0.22%\n",
      "runtime  -  0.05%\n"
     ]
    }
   ],
   "source": [
    "#Let's see if there is any missing data\n",
    "for col in data.columns:\n",
    "    nulls_average = np.mean(data[col].isnull())\n",
    "    print('{}  -  {:.2f}%'.format(col, nulls_average * 100))"
   ]
  },
  {
   "cell_type": "code",
   "execution_count": 58,
   "metadata": {},
   "outputs": [],
   "source": [
    "data[\"budget\"].fillna(0, inplace = True)\n",
    "data[\"gross\"].fillna(0, inplace = True)\n",
    "data[\"released\"].fillna(0, inplace = True) #The nulls were replaced with zeros."
   ]
  },
  {
   "cell_type": "code",
   "execution_count": 59,
   "metadata": {},
   "outputs": [
    {
     "data": {
      "text/plain": [
       "name         object\n",
       "rating       object\n",
       "genre        object\n",
       "year         object\n",
       "released     object\n",
       "score       float64\n",
       "votes       float64\n",
       "director     object\n",
       "writer       object\n",
       "star         object\n",
       "country      object\n",
       "budget        int64\n",
       "gross         int64\n",
       "company      object\n",
       "runtime     float64\n",
       "dtype: object"
      ]
     },
     "execution_count": 59,
     "metadata": {},
     "output_type": "execute_result"
    }
   ],
   "source": [
    "data.dtypes "
   ]
  },
  {
   "cell_type": "code",
   "execution_count": 32,
   "metadata": {},
   "outputs": [],
   "source": [
    "data[\"budget\"] = data[\"budget\"].astype(\"int64\")\n",
    "data[\"gross\"] = data[\"gross\"].astype(\"int64\") "
   ]
  },
  {
   "cell_type": "code",
   "execution_count": 67,
   "metadata": {},
   "outputs": [],
   "source": [
    "#Extract only the year of release using the release date \n",
    "# Define a regular expression to extract four digits after the comma\n",
    "pattern = r', (\\d{4})'\n",
    "\n",
    "# Use str.extract to extract the four digits and create a new column\n",
    "data['year'] = data['released'].str.extract(pattern)\n",
    "#data['year'] = data['year'].astype(\"int64\")"
   ]
  },
  {
   "cell_type": "code",
   "execution_count": 68,
   "metadata": {},
   "outputs": [
    {
     "data": {
      "text/plain": [
       "0       False\n",
       "1       False\n",
       "2       False\n",
       "3       False\n",
       "4       False\n",
       "        ...  \n",
       "7663    False\n",
       "7664    False\n",
       "7665    False\n",
       "7666    False\n",
       "7667    False\n",
       "Name: released, Length: 7668, dtype: bool"
      ]
     },
     "execution_count": 68,
     "metadata": {},
     "output_type": "execute_result"
    }
   ],
   "source": [
    "data[\"released\"].isnull()"
   ]
  },
  {
   "cell_type": "code",
   "execution_count": null,
   "metadata": {},
   "outputs": [],
   "source": []
  }
 ],
 "metadata": {
  "kernelspec": {
   "display_name": "base",
   "language": "python",
   "name": "python3"
  },
  "language_info": {
   "codemirror_mode": {
    "name": "ipython",
    "version": 3
   },
   "file_extension": ".py",
   "mimetype": "text/x-python",
   "name": "python",
   "nbconvert_exporter": "python",
   "pygments_lexer": "ipython3",
   "version": "3.10.13"
  }
 },
 "nbformat": 4,
 "nbformat_minor": 2
}
